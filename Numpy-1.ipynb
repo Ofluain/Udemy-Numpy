{
 "cells": [
  {
   "cell_type": "code",
   "execution_count": 1,
   "metadata": {},
   "outputs": [],
   "source": [
    "import numpy as np"
   ]
  },
  {
   "attachments": {},
   "cell_type": "markdown",
   "metadata": {},
   "source": [
    "## np.full_like ve np.full komutu"
   ]
  },
  {
   "cell_type": "code",
   "execution_count": 2,
   "metadata": {},
   "outputs": [
    {
     "data": {
      "text/plain": [
       "(array([1, 3, 5, 7, 9]), (5,))"
      ]
     },
     "execution_count": 2,
     "metadata": {},
     "output_type": "execute_result"
    }
   ],
   "source": [
    "fulllike = np.arange(1,10,2)\n",
    "fulllike , fulllike.shape"
   ]
  },
  {
   "cell_type": "code",
   "execution_count": 3,
   "metadata": {},
   "outputs": [
    {
     "name": "stdout",
     "output_type": "stream",
     "text": [
      "[[61 61 61 61 61]\n",
      " [61 61 61 61 61]]\n"
     ]
    },
    {
     "data": {
      "text/plain": [
       "array([4, 4, 4, 4, 4])"
      ]
     },
     "execution_count": 3,
     "metadata": {},
     "output_type": "execute_result"
    }
   ],
   "source": [
    "print(np.full((2,5) , fill_value= 61))\n",
    "\n",
    "np.full_like(fulllike , fill_value=\"4\") \n",
    "# np.full_like ve np.full komutlarında yazdığımız komutları ne yazdıysak yani fill_value'de onunla doldurur."
   ]
  },
  {
   "attachments": {},
   "cell_type": "markdown",
   "metadata": {},
   "source": [
    "## Örnek kullanımı \n"
   ]
  },
  {
   "cell_type": "code",
   "execution_count": 4,
   "metadata": {},
   "outputs": [
    {
     "data": {
      "image/png": "[encoded data removed]",
      "text/plain": [
       "<Figure size 640x480 with 1 Axes>"
      ]
     },
     "metadata": {},
     "output_type": "display_data"
    }
   ],
   "source": [
    "import matplotlib.pyplot as plt \n",
    "\n",
    "red_images = np.full((224,224,3) , (210,0,0))\n",
    "plt.imshow(red_images)\n",
    "plt.show()"
   ]
  },
  {
   "attachments": {},
   "cell_type": "markdown",
   "metadata": {},
   "source": [
    "## np.eye ve np.identity komutları"
   ]
  },
  {
   "cell_type": "code",
   "execution_count": 5,
   "metadata": {},
   "outputs": [
    {
     "data": {
      "text/plain": [
       "array([[1., 0., 0.],\n",
       "       [0., 1., 0.],\n",
       "       [0., 0., 1.]])"
      ]
     },
     "execution_count": 5,
     "metadata": {},
     "output_type": "execute_result"
    }
   ],
   "source": [
    "np.eye(3) # birim matris köşeden köşeye aynı sayılar"
   ]
  },
  {
   "cell_type": "code",
   "execution_count": 6,
   "metadata": {},
   "outputs": [
    {
     "data": {
      "text/plain": [
       "array([[1., 0., 0.],\n",
       "       [0., 1., 0.],\n",
       "       [0., 0., 1.]])"
      ]
     },
     "execution_count": 6,
     "metadata": {},
     "output_type": "execute_result"
    }
   ],
   "source": [
    "np.identity(3) # np.eye ile aynı komuttur"
   ]
  },
  {
   "attachments": {},
   "cell_type": "markdown",
   "metadata": {},
   "source": [
    "## np.linspace , np.arange , np.tile , np.repeat komutları"
   ]
  },
  {
   "attachments": {},
   "cell_type": "markdown",
   "metadata": {},
   "source": [
    "np.arange komutu"
   ]
  },
  {
   "cell_type": "code",
   "execution_count": 7,
   "metadata": {},
   "outputs": [
    {
     "data": {
      "text/plain": [
       "array([ 0,  1,  2,  3,  4,  5,  6,  7,  8,  9, 10])"
      ]
     },
     "execution_count": 7,
     "metadata": {},
     "output_type": "execute_result"
    }
   ],
   "source": [
    "l1 = []\n",
    "for i in range(11):\n",
    "    l1.append(i)\n",
    "\n",
    "l1 = np.array(l1)  # işlemleri yaptıktan sonra array olması için np.array komutunun içine verdik l1 komutunu\n",
    "l1\n",
    "\n",
    "# for döngüsü ile yaptık daha basit bir yöntemi var np.arange komutu ile bunu yapabiliyoruz."
   ]
  },
  {
   "cell_type": "code",
   "execution_count": 8,
   "metadata": {},
   "outputs": [
    {
     "data": {
      "text/plain": [
       "array([ 0,  1,  2,  3,  4,  5,  6,  7,  8,  9, 10])"
      ]
     },
     "execution_count": 8,
     "metadata": {},
     "output_type": "execute_result"
    }
   ],
   "source": [
    "np.arange(11) # daha basit ve kullanışlı bir komuttur"
   ]
  },
  {
   "attachments": {},
   "cell_type": "markdown",
   "metadata": {},
   "source": [
    "np.linspace komutu"
   ]
  },
  {
   "cell_type": "code",
   "execution_count": 9,
   "metadata": {},
   "outputs": [
    {
     "data": {
      "text/plain": [
       "array([ 1.        ,  2.28571429,  3.57142857,  4.85714286,  6.14285714,\n",
       "        7.42857143,  8.71428571, 10.        ])"
      ]
     },
     "execution_count": 9,
     "metadata": {},
     "output_type": "execute_result"
    }
   ],
   "source": [
    "arr1 = np.linspace(1,10,8) # linear olarak artış gösteren komuttur \n",
    "arr1"
   ]
  },
  {
   "cell_type": "code",
   "execution_count": 10,
   "metadata": {},
   "outputs": [
    {
     "data": {
      "text/plain": [
       "array([1.28571429, 1.28571429, 1.28571429, 1.28571429, 1.28571429,\n",
       "       1.28571429, 1.28571429])"
      ]
     },
     "execution_count": 10,
     "metadata": {},
     "output_type": "execute_result"
    }
   ],
   "source": [
    "np.diff(arr1) # hepsinin farkını yazdıran komuttur "
   ]
  },
  {
   "attachments": {},
   "cell_type": "markdown",
   "metadata": {},
   "source": [
    "np.tile ve np.repeat  komutuları"
   ]
  },
  {
   "cell_type": "code",
   "execution_count": 11,
   "metadata": {},
   "outputs": [
    {
     "data": {
      "text/plain": [
       "array([ 1.        ,  2.28571429,  3.57142857,  4.85714286,  6.14285714,\n",
       "        7.42857143,  8.71428571, 10.        ,  1.        ,  2.28571429,\n",
       "        3.57142857,  4.85714286,  6.14285714,  7.42857143,  8.71428571,\n",
       "       10.        ])"
      ]
     },
     "execution_count": 11,
     "metadata": {},
     "output_type": "execute_result"
    }
   ],
   "source": [
    "arr1 = np.linspace(1,10,8)\n",
    "\n",
    "\n",
    "np.tile(arr1 , reps=2)  # tekrar eden komuttur reps parametresi oluşturulan array'in tekrarını yapar "
   ]
  },
  {
   "cell_type": "code",
   "execution_count": 12,
   "metadata": {},
   "outputs": [
    {
     "data": {
      "text/plain": [
       "array([ 1.        ,  1.        ,  1.        ,  2.28571429,  2.28571429,\n",
       "        2.28571429,  3.57142857,  3.57142857,  3.57142857,  4.85714286,\n",
       "        4.85714286,  4.85714286,  6.14285714,  6.14285714,  6.14285714,\n",
       "        7.42857143,  7.42857143,  7.42857143,  8.71428571,  8.71428571,\n",
       "        8.71428571, 10.        , 10.        , 10.        ])"
      ]
     },
     "execution_count": 12,
     "metadata": {},
     "output_type": "execute_result"
    }
   ],
   "source": [
    "## [0 , 0, 0] gibi aynı sayıları yan yana getirmek için np.repeat kullanılır\n",
    "\n",
    "np.repeat(arr1, repeats=3) # aynı sayılar yan yana geldi."
   ]
  },
  {
   "cell_type": "code",
   "execution_count": 13,
   "metadata": {},
   "outputs": [
    {
     "name": "stdout",
     "output_type": "stream",
     "text": [
      "[[1 2 1 2]\n",
      " [3 4 3 4]]\n"
     ]
    },
    {
     "data": {
      "text/plain": [
       "array([[1, 2],\n",
       "       [1, 2],\n",
       "       [3, 4],\n",
       "       [3, 4]])"
      ]
     },
     "execution_count": 13,
     "metadata": {},
     "output_type": "execute_result"
    }
   ],
   "source": [
    "arr_2d = np.array([\n",
    "    [1,2],\n",
    "    [3,4]\n",
    "])\n",
    "arr_2d  # iki boyutlu arraylerde nasıl çalışır ? sorusunun cevabı :\n",
    "\n",
    "print(np.tile(arr_2d , reps=2))  # şeklinde olur totalde 2 tane kopyalama gibi yapıştırma yapıldı.\n",
    "\n",
    "np.repeat(arr_2d, repeats=2 , axis=0)  # şeklinde olur.\n",
    "\n",
    "# NOT : axis = 0 dersek satır bazlı işlemler yapılır , axis = 1 dersek sütun bazlı işlemler yapılır."
   ]
  },
  {
   "attachments": {},
   "cell_type": "markdown",
   "metadata": {},
   "source": [
    "## np.random ve np.reshape komutları "
   ]
  },
  {
   "attachments": {},
   "cell_type": "markdown",
   "metadata": {},
   "source": [
    "np.random komutu "
   ]
  },
  {
   "cell_type": "code",
   "execution_count": 14,
   "metadata": {},
   "outputs": [
    {
     "data": {
      "text/plain": [
       "(array([ 985.,  976., 1019., 1027., 1009.,  967., 1024.,  992.,  984.,\n",
       "        1017.]),\n",
       " array([1.00001025, 1.50000153, 1.99999281, 2.49998409, 2.99997537,\n",
       "        3.49996666, 3.99995794, 4.49994922, 4.9999405 , 5.49993178,\n",
       "        5.99992306]),\n",
       " <BarContainer object of 10 artists>)"
      ]
     },
     "execution_count": 14,
     "metadata": {},
     "output_type": "execute_result"
    },
    {
     "data": {
      "image/png": "[encoded data removed]",
      "text/plain": [
       "<Figure size 640x480 with 1 Axes>"
      ]
     },
     "metadata": {},
     "output_type": "display_data"
    }
   ],
   "source": [
    "arr2 = np.random.uniform(1,6,size =10000) #np.random.uniform bize rasgele bir float değer döndürür.\n",
    "\n",
    "# size'da kaçtane üretmek istediğimiz yazıyoruz \n",
    "\n",
    "# istersek \"size\" komutunu da 3 boyutlu bir array da oluşturabiliriz. \n",
    "\n",
    "plt.hist(arr2 , color = \"purple\")"
   ]
  },
  {
   "cell_type": "code",
   "execution_count": 15,
   "metadata": {},
   "outputs": [
    {
     "data": {
      "image/png": "[encoded data removed]",
      "text/plain": [
       "<Figure size 640x480 with 1 Axes>"
      ]
     },
     "metadata": {},
     "output_type": "display_data"
    }
   ],
   "source": [
    "arr3 = np.random.normal(loc= 2 ,scale= 5 , size = 100000) \n",
    "# normal float değerler üretmeye yarar.\n",
    "# scale = standart sapma anlamına gelir.\n",
    "# loc = normal dağılımın ortalamasını gösterir.\n",
    "\n",
    "\n",
    "plt.hist(arr3)\n",
    "\n",
    "plt.show()"
   ]
  },
  {
   "cell_type": "code",
   "execution_count": 16,
   "metadata": {},
   "outputs": [
    {
     "data": {
      "text/plain": [
       "array([[-0.85826408, -1.65687116, -0.99979274, -0.53013122],\n",
       "       [-0.2996194 ,  0.18561938,  1.84115737, -1.4152028 ]])"
      ]
     },
     "execution_count": 16,
     "metadata": {},
     "output_type": "execute_result"
    }
   ],
   "source": [
    "# standart normal distribution \n",
    "\n",
    "np.random.randn(2,4) \n",
    "\n",
    "# np.random.randn ile isterseniz 2 boyutlu 3 boyutlu ya da 1 boyutlu array oluşturabilirsiniz.\n",
    "# float değerler döndürür."
   ]
  },
  {
   "cell_type": "code",
   "execution_count": 17,
   "metadata": {},
   "outputs": [
    {
     "data": {
      "text/plain": [
       "5"
      ]
     },
     "execution_count": 17,
     "metadata": {},
     "output_type": "execute_result"
    }
   ],
   "source": [
    "# verdiğiniz değere kadar olan rastgele int sayılar döndürür (tam sayılar).\n",
    "\n",
    "np.random.randint(6)"
   ]
  },
  {
   "cell_type": "code",
   "execution_count": 18,
   "metadata": {},
   "outputs": [
    {
     "name": "stdout",
     "output_type": "stream",
     "text": [
      "[ 0  1  2  3  4  5  6  7  8  9 10 11 12 13 14]\n"
     ]
    },
    {
     "data": {
      "text/plain": [
       "9"
      ]
     },
     "execution_count": 18,
     "metadata": {},
     "output_type": "execute_result"
    }
   ],
   "source": [
    "arr4 = np.arange(15)\n",
    "\n",
    "print(arr4)\n",
    "\n",
    "# oluşturulan ya da hazır olan arraylerin içinden seçmektir.\n",
    "\n",
    "np.random.choice(arr4)"
   ]
  },
  {
   "attachments": {},
   "cell_type": "markdown",
   "metadata": {},
   "source": [
    "np.reshape komutu "
   ]
  },
  {
   "cell_type": "code",
   "execution_count": 19,
   "metadata": {},
   "outputs": [
    {
     "data": {
      "text/plain": [
       "array([ 1.32159707, -0.06378289, -0.17773956, -0.02727057, -2.01330665,\n",
       "        0.39631689,  2.14870792, -0.37559709, -1.44239763,  1.20372931,\n",
       "        0.89875888,  0.20339259,  0.88323598, -0.70691082, -0.30162816,\n",
       "        0.59315504, -0.47384125,  0.04431294,  1.28198472, -1.22987011])"
      ]
     },
     "execution_count": 19,
     "metadata": {},
     "output_type": "execute_result"
    }
   ],
   "source": [
    "arr5 = np.random.randn(20)\n",
    "arr5"
   ]
  },
  {
   "cell_type": "code",
   "execution_count": 20,
   "metadata": {},
   "outputs": [
    {
     "data": {
      "text/plain": [
       "(20,)"
      ]
     },
     "execution_count": 20,
     "metadata": {},
     "output_type": "execute_result"
    }
   ],
   "source": [
    "arr5.shape # eleman sayısını gösterir."
   ]
  },
  {
   "cell_type": "code",
   "execution_count": 26,
   "metadata": {},
   "outputs": [
    {
     "data": {
      "text/plain": [
       "array([[[ 1.32159707],\n",
       "        [-0.06378289],\n",
       "        [-0.17773956],\n",
       "        [-0.02727057]],\n",
       "\n",
       "       [[-2.01330665],\n",
       "        [ 0.39631689],\n",
       "        [ 2.14870792],\n",
       "        [-0.37559709]],\n",
       "\n",
       "       [[-1.44239763],\n",
       "        [ 1.20372931],\n",
       "        [ 0.89875888],\n",
       "        [ 0.20339259]],\n",
       "\n",
       "       [[ 0.88323598],\n",
       "        [-0.70691082],\n",
       "        [-0.30162816],\n",
       "        [ 0.59315504]],\n",
       "\n",
       "       [[-0.47384125],\n",
       "        [ 0.04431294],\n",
       "        [ 1.28198472],\n",
       "        [-1.22987011]]])"
      ]
     },
     "execution_count": 26,
     "metadata": {},
     "output_type": "execute_result"
    }
   ],
   "source": [
    "arr5.reshape((5,4,1)) # eleman sayısı aynı kalacak şekilde boyut değişikliği yapılabilir. # 1 boyutlu arrayı 3 boyutlu array'a dönüştürdük."
   ]
  },
  {
   "cell_type": "code",
   "execution_count": null,
   "metadata": {},
   "outputs": [],
   "source": [
    "# Done"
   ]
  }
 ],
 "metadata": {
  "kernelspec": {
   "display_name": "Python 3",
   "language": "python",
   "name": "python3"
  },
  "language_info": {
   "codemirror_mode": {
    "name": "ipython",
    "version": 3
   },
   "file_extension": ".py",
   "mimetype": "text/x-python",
   "name": "python",
   "nbconvert_exporter": "python",
   "pygments_lexer": "ipython3",
   "version": "3.10.11"
  },
  "orig_nbformat": 4
 },
 "nbformat": 4,
 "nbformat_minor": 2
}
