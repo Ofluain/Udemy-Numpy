{
 "cells": [
  {
   "cell_type": "code",
   "execution_count": 31,
   "metadata": {},
   "outputs": [
    {
     "data": {
      "text/plain": [
       "'1.24.2'"
      ]
     },
     "execution_count": 31,
     "metadata": {},
     "output_type": "execute_result"
    }
   ],
   "source": [
    "import numpy as np \n",
    "np.__version__"
   ]
  },
  {
   "cell_type": "markdown",
   "metadata": {},
   "source": [
    "## Broadcasting'e Giriş\n",
    "- Denk gelen bütün indisleri kolayca dört işlemi olarak düşünülebilir.\n",
    "    - Shapeleri aynı değilse devreye giren bir işlemdir"
   ]
  },
  {
   "cell_type": "code",
   "execution_count": 32,
   "metadata": {},
   "outputs": [
    {
     "data": {
      "text/plain": [
       "(array([1, 2, 3]),\n",
       " array([[4, 5, 6],\n",
       "        [7, 8, 9]]))"
      ]
     },
     "execution_count": 32,
     "metadata": {},
     "output_type": "execute_result"
    }
   ],
   "source": [
    "arr = np.array([1,2,3]) # shape'i (3,)\n",
    "\n",
    "arr1 = np.array([[4,5,6] , [7,8,9]])  #shape' i (2,3)\n",
    "\n",
    "arr , arr1\n",
    "\n",
    "# iki farklı array oluşturduk şimdi bunlara broadcasting yapalım;"
   ]
  },
  {
   "cell_type": "code",
   "execution_count": 33,
   "metadata": {},
   "outputs": [
    {
     "data": {
      "text/plain": [
       "array([[ 5,  7,  9],\n",
       "       [ 8, 10, 12]])"
      ]
     },
     "execution_count": 33,
     "metadata": {},
     "output_type": "execute_result"
    }
   ],
   "source": [
    "arr + arr1 # denk gelen indisleri topladık bu bie broadcasting olayıdır."
   ]
  },
  {
   "cell_type": "markdown",
   "metadata": {},
   "source": [
    "## İleri Seviye Broadcasting :"
   ]
  },
  {
   "cell_type": "code",
   "execution_count": 34,
   "metadata": {},
   "outputs": [
    {
     "data": {
      "text/plain": [
       "array([[ 49,  37,  18,  89],\n",
       "       [ 83,  51,  91,  17],\n",
       "       [ 88,   0,  84,  41],\n",
       "       [ 63,  45,  53,  57],\n",
       "       [ 11,  75,  48,   7],\n",
       "       [ 42,  87,  85, 100],\n",
       "       [ 37,  49,  52,  21],\n",
       "       [  5,   4,  84,  84],\n",
       "       [ 35,  51,  76,   9],\n",
       "       [ 76,  95,  24,  59],\n",
       "       [  5,  32,  88,  29],\n",
       "       [ 80,  21,  40,  95],\n",
       "       [ 60,  36,   2,  29],\n",
       "       [ 68,  76,  32,  98],\n",
       "       [ 24,  67,  64,  60],\n",
       "       [ 73,  44,  91,  86],\n",
       "       [ 51,  87,  99,  68],\n",
       "       [ 49,  31,  58,  74],\n",
       "       [ 78,  32,  79,  40],\n",
       "       [ 47,  69,   3,  63]])"
      ]
     },
     "execution_count": 34,
     "metadata": {},
     "output_type": "execute_result"
    }
   ],
   "source": [
    "score = np.random.uniform(0,101, size = (20,4))\n",
    "score.astype(np.int32)"
   ]
  },
  {
   "cell_type": "code",
   "execution_count": 35,
   "metadata": {},
   "outputs": [
    {
     "data": {
      "text/plain": [
       "array([48.65167194, 60.87687339, 53.87364404, 55.0330577 , 36.03832957,\n",
       "       79.09245633, 40.04001293, 44.59080956, 43.08320473, 64.18423957,\n",
       "       38.96549889, 59.35683967, 32.37687931, 69.26588265, 54.22467724,\n",
       "       74.05767095, 76.70781628, 53.27562178, 57.63341136, 46.18923215])"
      ]
     },
     "execution_count": 35,
     "metadata": {},
     "output_type": "execute_result"
    }
   ],
   "source": [
    "# Satır bazlı ve sütun bazlı ortalamalarını bulalım :\n",
    "\n",
    "score.mean(axis=1) # sütun bazlı ve shape'(20,) olacaktır."
   ]
  },
  {
   "cell_type": "code",
   "execution_count": 36,
   "metadata": {},
   "outputs": [
    {
     "data": {
      "text/plain": [
       "array([51.71824026, 50.01726995, 58.9947853 , 56.77327049])"
      ]
     },
     "execution_count": 36,
     "metadata": {},
     "output_type": "execute_result"
    }
   ],
   "source": [
    "# Satır bazlı olarak axis = 0 olması gerekmektedir:\n",
    "\n",
    "score.mean(axis=0) # shape'i (4,) olacaktır"
   ]
  },
  {
   "cell_type": "markdown",
   "metadata": {},
   "source": [
    "# Array Birleştirme :\n",
    "- np.concatenate ve np.stack komutları "
   ]
  },
  {
   "cell_type": "code",
   "execution_count": 37,
   "metadata": {},
   "outputs": [],
   "source": [
    "arr1 = np.array([1,2,3])\n",
    "arr2 = np.array([4,5,6])"
   ]
  },
  {
   "cell_type": "code",
   "execution_count": 38,
   "metadata": {},
   "outputs": [
    {
     "data": {
      "text/plain": [
       "array([1, 2, 3, 4, 5, 6])"
      ]
     },
     "execution_count": 38,
     "metadata": {},
     "output_type": "execute_result"
    }
   ],
   "source": [
    "np.concatenate([arr1 , arr2] , axis = 0)"
   ]
  },
  {
   "cell_type": "code",
   "execution_count": 39,
   "metadata": {},
   "outputs": [
    {
     "data": {
      "text/plain": [
       "array([[1, 2, 3],\n",
       "       [4, 5, 6]])"
      ]
     },
     "execution_count": 39,
     "metadata": {},
     "output_type": "execute_result"
    }
   ],
   "source": [
    "np.stack([arr1 , arr2] , axis = 0) # 2D oldu dikkat edelim."
   ]
  },
  {
   "cell_type": "markdown",
   "metadata": {},
   "source": [
    "2D array birleştirme :\n"
   ]
  },
  {
   "cell_type": "code",
   "execution_count": 40,
   "metadata": {},
   "outputs": [
    {
     "data": {
      "text/plain": [
       "(array([[3, 1, 3, 0],\n",
       "        [2, 4, 0, 1],\n",
       "        [2, 4, 4, 4],\n",
       "        [2, 2, 2, 0]]),\n",
       " array([[1, 4, 2, 0],\n",
       "        [4, 1, 3, 1],\n",
       "        [0, 4, 0, 1],\n",
       "        [2, 4, 2, 3]]))"
      ]
     },
     "execution_count": 40,
     "metadata": {},
     "output_type": "execute_result"
    }
   ],
   "source": [
    "arr3 = np.random.randint(low = 0 , high=5 , size = (4,4))\n",
    "arr4 = np.random.randint(low = 0 , high=5 , size = (4,4))\n",
    "\n",
    "arr3 , arr4"
   ]
  },
  {
   "cell_type": "code",
   "execution_count": 41,
   "metadata": {},
   "outputs": [
    {
     "data": {
      "text/plain": [
       "array([[3, 1, 3, 0],\n",
       "       [2, 4, 0, 1],\n",
       "       [2, 4, 4, 4],\n",
       "       [2, 2, 2, 0],\n",
       "       [1, 4, 2, 0],\n",
       "       [4, 1, 3, 1],\n",
       "       [0, 4, 0, 1],\n",
       "       [2, 4, 2, 3]])"
      ]
     },
     "execution_count": 41,
     "metadata": {},
     "output_type": "execute_result"
    }
   ],
   "source": [
    "np.concatenate([arr3,arr4] , axis = 0) # arr3 ün bitiminde hemen altına arr4 arrayını ekledi. Shape = (8,4)"
   ]
  },
  {
   "cell_type": "code",
   "execution_count": 42,
   "metadata": {},
   "outputs": [
    {
     "data": {
      "text/plain": [
       "array([[3, 1, 3, 0, 1, 4, 2, 0],\n",
       "       [2, 4, 0, 1, 4, 1, 3, 1],\n",
       "       [2, 4, 4, 4, 0, 4, 0, 1],\n",
       "       [2, 2, 2, 0, 2, 4, 2, 3]])"
      ]
     },
     "execution_count": 42,
     "metadata": {},
     "output_type": "execute_result"
    }
   ],
   "source": [
    "np.concatenate([arr3,arr4] , axis = 1) # arr3'ün bitiminde bu sefer yanına sağ tarafına ekledi yani sütun bazlı birleştirme yaptık. Shape = (4,8)"
   ]
  },
  {
   "cell_type": "code",
   "execution_count": 43,
   "metadata": {},
   "outputs": [
    {
     "data": {
      "text/plain": [
       "array([[[3, 1, 3, 0],\n",
       "        [2, 4, 0, 1],\n",
       "        [2, 4, 4, 4],\n",
       "        [2, 2, 2, 0]],\n",
       "\n",
       "       [[1, 4, 2, 0],\n",
       "        [4, 1, 3, 1],\n",
       "        [0, 4, 0, 1],\n",
       "        [2, 4, 2, 3]]])"
      ]
     },
     "execution_count": 43,
     "metadata": {},
     "output_type": "execute_result"
    }
   ],
   "source": [
    "np.stack([arr3,arr4] , axis = 0) # bir bölme ile arrayi bozmadan satır bazlı birleştirme yaptık. 3D olduğuna dikkat edelim. Shape = (2,4,4)\n"
   ]
  },
  {
   "cell_type": "code",
   "execution_count": 44,
   "metadata": {},
   "outputs": [
    {
     "data": {
      "text/plain": [
       "array([[[3, 1, 3, 0],\n",
       "        [1, 4, 2, 0]],\n",
       "\n",
       "       [[2, 4, 0, 1],\n",
       "        [4, 1, 3, 1]],\n",
       "\n",
       "       [[2, 4, 4, 4],\n",
       "        [0, 4, 0, 1]],\n",
       "\n",
       "       [[2, 2, 2, 0],\n",
       "        [2, 4, 2, 3]]])"
      ]
     },
     "execution_count": 44,
     "metadata": {},
     "output_type": "execute_result"
    }
   ],
   "source": [
    "a = np.stack([arr3,arr4] , axis = 1) # yukarıdaki arraya bakıp inceleybilirsiniz. Shape = (4,2,4)\n",
    "a"
   ]
  },
  {
   "cell_type": "markdown",
   "metadata": {},
   "source": [
    "## Structured Arrayler"
   ]
  },
  {
   "cell_type": "code",
   "execution_count": 54,
   "metadata": {},
   "outputs": [
    {
     "data": {
      "text/plain": [
       "array([('Metehan', 100, 60), ('Emre',  80, 95)],\n",
       "      dtype=[('ad', '<U10'), ('Ilk_Sınav', '<i4'), ('Ikıncı_Sınav', '<i4')])"
      ]
     },
     "execution_count": 54,
     "metadata": {},
     "output_type": "execute_result"
    }
   ],
   "source": [
    "st = np.array([(\"Metehan\" , 100 , 60) , (\"Emre\" , 80 , 95)] , \n",
    "         dtype= [(\"ad\" , \"U10\") , (\"Ilk_Sınav\" , \"i4\" ) , (\"Ikıncı_Sınav\" , \"i4\")])\n",
    "\n",
    "st"
   ]
  },
  {
   "cell_type": "code",
   "execution_count": 55,
   "metadata": {},
   "outputs": [
    {
     "data": {
      "text/plain": [
       "('Metehan', 100, 60)"
      ]
     },
     "execution_count": 55,
     "metadata": {},
     "output_type": "execute_result"
    }
   ],
   "source": [
    "st[0] # İlk indeksi çağırdık."
   ]
  },
  {
   "cell_type": "code",
   "execution_count": 58,
   "metadata": {},
   "outputs": [
    {
     "name": "stdout",
     "output_type": "stream",
     "text": [
      "['Metehan' 'Emre']\n"
     ]
    },
    {
     "data": {
      "text/plain": [
       "array([100,  80])"
      ]
     },
     "execution_count": 58,
     "metadata": {},
     "output_type": "execute_result"
    }
   ],
   "source": [
    "print(st[\"ad\"] )\n",
    "\n",
    "st[\"Ilk_Sınav\"]"
   ]
  },
  {
   "cell_type": "code",
   "execution_count": null,
   "metadata": {},
   "outputs": [],
   "source": []
  }
 ],
 "metadata": {
  "kernelspec": {
   "display_name": "Python 3",
   "language": "python",
   "name": "python3"
  },
  "language_info": {
   "codemirror_mode": {
    "name": "ipython",
    "version": 3
   },
   "file_extension": ".py",
   "mimetype": "text/x-python",
   "name": "python",
   "nbconvert_exporter": "python",
   "pygments_lexer": "ipython3",
   "version": "3.10.11"
  },
  "orig_nbformat": 4
 },
 "nbformat": 4,
 "nbformat_minor": 2
}
